{
 "cells": [
  {
   "cell_type": "code",
   "execution_count": 46,
   "metadata": {},
   "outputs": [],
   "source": [
    "#downloading P5 txt files from Lurker's guide\n",
    "import requests  \n",
    "for key in range (111):\n",
    "    p5_data = requests.get(f'http://www.midwinter.com/lurk/p5/{key:03d}')\n",
    "    with open(f'p5_data/{key:03d}.txt', 'wb') as f:\n",
    "        f.write(p5_data.content)\n",
    "#this cell only needs to be run once because after the initial run all the files will be downloaded. \n",
    "#for extra runs on the data, start at the second cell."
   ]
  },
  {
   "cell_type": "code",
   "execution_count": null,
   "metadata": {},
   "outputs": [],
   "source": [
    "mylist = ['carrots']\n",
    "mylist.append('banana')\n",
    "mylist"
   ]
  },
  {
   "cell_type": "code",
   "execution_count": 34,
   "metadata": {},
   "outputs": [
    {
     "name": "stdout",
     "output_type": "stream",
     "text": [
      "[3, 7]\n",
      "Shawn Bayern        2\n",
      "Ted McCoy           2.5\n",
      "Bill Sherman        3.5\n",
      "Dan Wood            5\n",
      "Leick Robinson      5\n",
      "Mark Stackpole      5\n",
      "Michael Zecca       5\n",
      "Rick Blewitt        5\n",
      "Jose Gonzalez       6\n",
      "Kyle Haight         6\n",
      "Craig Bryant        6.5\n",
      "Dirk Loeding        6.5\n",
      "Don Varvel          6.5\n",
      "John Sotomayor      7\n",
      "Chris Aylott        7.5\n",
      "Gordon Mulcaster    7.5\n",
      "Mike Hopkins        7.5\n",
      "Brian Sullivan      8\n",
      "Jonathan Roy        8\n",
      "Kevin Wald         10\n",
      "\n"
     ]
    }
   ],
   "source": [
    "with open('p5_data/000.txt', 'r') as f:\n",
    "    linelist = list(f)\n",
    "    list_of_dashes =[]\n",
    "    for index, line in enumerate(linelist):\n",
    "        if line[1:3] == '--':\n",
    "            list_of_dashes.append (index) \n",
    "    print(list_of_dashes)\n",
    "    noheaderlist = linelist[(list_of_dashes [1])+1:] \n",
    "    print(''.join(noheaderlist))"
   ]
  },
  {
   "cell_type": "code",
   "execution_count": null,
   "metadata": {},
   "outputs": [],
   "source": [
    "['apples', 'bananas','carrots'][2]"
   ]
  },
  {
   "cell_type": "code",
   "execution_count": 5,
   "metadata": {},
   "outputs": [],
   "source": [
    "#accessing the downloaded files\n",
    "the_one_list = []\n",
    "for key in range (111):\n",
    "    with open(f'p5_data/{key:03d}.txt', 'r') as f:\n",
    "        linelist = list(f)\n",
    "        list_of_dashes =[]\n",
    "        for index, line in enumerate(linelist):\n",
    "            if line[1:3] == '--':\n",
    "                list_of_dashes.append (index) \n",
    "        #print(list_of_dashes)\n",
    "        noheaderlist = linelist[(list_of_dashes [1])+1:] \n",
    "        the_one_list.append (noheaderlist)\n",
    "#print (the_one_list)\n",
    "        #print(''.join(noheaderlist))"
   ]
  },
  {
   "cell_type": "code",
   "execution_count": 6,
   "metadata": {},
   "outputs": [],
   "source": [
    "import json\n",
    "stringged_list = json.dumps(the_one_list)"
   ]
  },
  {
   "cell_type": "code",
   "execution_count": 9,
   "metadata": {},
   "outputs": [],
   "source": [
    "with open('json_episodes.json', 'w') as f:\n",
    "    f.write(stringged_list)"
   ]
  },
  {
   "cell_type": "code",
   "execution_count": 42,
   "metadata": {},
   "outputs": [
    {
     "ename": "AttributeError",
     "evalue": "'list' object has no attribute 'split'",
     "output_type": "error",
     "traceback": [
      "\u001b[1;31m---------------------------------------------------------------------------\u001b[0m",
      "\u001b[1;31mAttributeError\u001b[0m                            Traceback (most recent call last)",
      "\u001b[1;32m<ipython-input-42-5d888de4b623>\u001b[0m in \u001b[0;36m<module>\u001b[1;34m\u001b[0m\n\u001b[0;32m      4\u001b[0m \u001b[0mstr\u001b[0m\u001b[1;33m(\u001b[0m\u001b[0mepisode\u001b[0m\u001b[1;33m)\u001b[0m\u001b[1;33m\u001b[0m\u001b[1;33m\u001b[0m\u001b[0m\n\u001b[0;32m      5\u001b[0m \u001b[1;32mfor\u001b[0m \u001b[0mline\u001b[0m \u001b[1;32min\u001b[0m \u001b[0mepisode\u001b[0m \u001b[1;33m[\u001b[0m\u001b[1;36m0\u001b[0m\u001b[1;33m:\u001b[0m\u001b[1;36m111\u001b[0m\u001b[1;33m]\u001b[0m\u001b[1;33m:\u001b[0m\u001b[1;33m\u001b[0m\u001b[1;33m\u001b[0m\u001b[0m\n\u001b[1;32m----> 6\u001b[1;33m     \u001b[0mname\u001b[0m \u001b[1;33m=\u001b[0m \u001b[0mline\u001b[0m\u001b[1;33m.\u001b[0m\u001b[0msplit\u001b[0m \u001b[1;33m(\u001b[0m\u001b[1;34m\" \"\u001b[0m\u001b[1;33m)\u001b[0m\u001b[1;33m\u001b[0m\u001b[1;33m\u001b[0m\u001b[0m\n\u001b[0m\u001b[0;32m      7\u001b[0m     \u001b[1;32mif\u001b[0m \u001b[1;34m\"'\"\u001b[0m \u001b[1;33m==\u001b[0m \u001b[0mname\u001b[0m\u001b[1;33m[\u001b[0m\u001b[1;36m0\u001b[0m\u001b[1;33m]\u001b[0m\u001b[1;33m:\u001b[0m\u001b[1;33m\u001b[0m\u001b[1;33m\u001b[0m\u001b[0m\n\u001b[0;32m      8\u001b[0m         \u001b[0mname\u001b[0m \u001b[1;33m=\u001b[0m \u001b[0mline\u001b[0m\u001b[1;33m.\u001b[0m\u001b[0msplit\u001b[0m\u001b[1;33m(\u001b[0m\u001b[1;34m\" \"\u001b[0m\u001b[1;33m)\u001b[0m\u001b[1;33m[\u001b[0m\u001b[1;36m1\u001b[0m\u001b[1;33m]\u001b[0m\u001b[1;33m\u001b[0m\u001b[1;33m\u001b[0m\u001b[0m\n",
      "\u001b[1;31mAttributeError\u001b[0m: 'list' object has no attribute 'split'"
     ]
    }
   ],
   "source": [
    "#determine total number of raters\n",
    "raters_count = {}\n",
    "#episode = [the_one_list] ##https://www.geeksforgeeks.org/python-convert-list-of-lists-to-list-of-strings/\n",
    "\n",
    "for  in the_one_list:\n",
    "    \n",
    "    for line in episode [0:111]:\n",
    "        name = line.split (\" \")\n",
    "        if \"'\" == name[0]:\n",
    "            name = line.split(\" \")[1]\n",
    "        if \"' \" == name[0]:\n",
    "            name = line.split(\" \")[1]\n",
    "        if name not in raters_count:\n",
    "            raters_count[name] = 1\n",
    "        else:\n",
    "            raters_count[name] = raters_count[name] + 1\n",
    "if hasfile:\n",
    "    print(raters_count)\n",
    "    #determine total ratings for each rater\n",
    "    ##counting instances of rater name occurring"
   ]
  },
  {
   "cell_type": "code",
   "execution_count": 2,
   "metadata": {},
   "outputs": [
    {
     "name": "stdout",
     "output_type": "stream",
     "text": [
      "my favorite fruit is apples\n",
      "my favorite fruit is bananas\n",
      "my favorite fruit is carrots\n"
     ]
    }
   ],
   "source": [
    "fruits = ['apples','bananas','carrots']\n",
    "\n",
    "for cheese in fruits:\n",
    "    print(f\"my favorite fruit is {cheese}\")"
   ]
  },
  {
   "cell_type": "code",
   "execution_count": 3,
   "metadata": {},
   "outputs": [
    {
     "name": "stdout",
     "output_type": "stream",
     "text": [
      "my favorite fruit is apples\n",
      "my favorite fruit is bananas\n",
      "my favorite fruit is carrots\n"
     ]
    }
   ],
   "source": [
    "farts = 0\n",
    "while farts < len(fruits):\n",
    "    cheese = fruits[farts]\n",
    "    print(f\"my favorite fruit is {cheese}\")\n",
    "    farts = farts + 1"
   ]
  },
  {
   "cell_type": "code",
   "execution_count": 38,
   "metadata": {},
   "outputs": [
    {
     "data": {
      "text/plain": [
       "['Shawn Bayern        2\\n',\n",
       " 'Ted McCoy           2.5\\n',\n",
       " 'Bill Sherman        3.5\\n',\n",
       " 'Dan Wood            5\\n',\n",
       " 'Leick Robinson      5\\n',\n",
       " 'Mark Stackpole      5\\n',\n",
       " 'Michael Zecca       5\\n',\n",
       " 'Rick Blewitt        5\\n',\n",
       " 'Jose Gonzalez       6\\n',\n",
       " 'Kyle Haight         6\\n',\n",
       " 'Craig Bryant        6.5\\n',\n",
       " 'Dirk Loeding        6.5\\n',\n",
       " 'Don Varvel          6.5\\n',\n",
       " 'John Sotomayor      7\\n',\n",
       " 'Chris Aylott        7.5\\n',\n",
       " 'Gordon Mulcaster    7.5\\n',\n",
       " 'Mike Hopkins        7.5\\n',\n",
       " 'Brian Sullivan      8\\n',\n",
       " 'Jonathan Roy        8\\n',\n",
       " 'Kevin Wald         10\\n']"
      ]
     },
     "execution_count": 38,
     "metadata": {},
     "output_type": "execute_result"
    }
   ],
   "source": [
    "the_one_list[0]"
   ]
  },
  {
   "cell_type": "code",
   "execution_count": 28,
   "metadata": {},
   "outputs": [
    {
     "data": {
      "text/plain": [
       "Mike Hopkins         109\n",
       "Steven Grimm         100\n",
       "Casey Miller          98\n",
       "Terrance L. Lewis     94\n",
       "John Abbott           91\n",
       "Kathy Sullivan        91\n",
       "Dan Kimmel            86\n",
       "Tizby Hunt-Ward       84\n",
       "Steve Fenster         82\n",
       "Allan Jenoff          82\n",
       "Mark D. Grover        81\n",
       "Mike Heffner          80\n",
       "dtype: int64"
      ]
     },
     "execution_count": 28,
     "metadata": {},
     "output_type": "execute_result"
    }
   ],
   "source": [
    "import pandas as pd\n",
    "num_reviews = (1-pd.isnull(all_scores)).sum(axis=1).sort_values(ascending = False)\n",
    "num_reviews[num_reviews > 79]"
   ]
  },
  {
   "cell_type": "code",
   "execution_count": null,
   "metadata": {},
   "outputs": [],
   "source": [
    "#loading the data into a dataframe\n",
    "\n",
    "#look at first few rows of the data\n",
    "all_scores.head()\n",
    "#organize data by count of ratings provided\n",
    "df_by_ratings = all_scores.sort_values('number of ratings', ascending = False)\n",
    "df_by_ratings.head()"
   ]
  },
  {
   "cell_type": "code",
   "execution_count": 27,
   "metadata": {},
   "outputs": [
    {
     "data": {
      "text/plain": [
       "27.75"
      ]
     },
     "execution_count": 27,
     "metadata": {},
     "output_type": "execute_result"
    }
   ],
   "source": [
    "111/4"
   ]
  },
  {
   "cell_type": "code",
   "execution_count": 4,
   "metadata": {},
   "outputs": [],
   "source": [
    "##DETERMINING MOST REGULAR VIEWERS AND CONTRIBUTORS (AKA FANS)\n",
    "#find the top ten raters by number of ratings contributed\n",
    "df_by_ratings.iloc[0:10,[1,2,3,4]]\n",
    "#was considering .loc, but I thought it would get messier having to list out all the names for the columns"
   ]
  },
  {
   "cell_type": "code",
   "execution_count": 5,
   "metadata": {},
   "outputs": [],
   "source": [
    "##DETERMINING OVERALL PERCEPTION OF THE SHOW\n",
    "#for each fan\n",
    "    #find the mean of all their ratings\n",
    "    #print list of names with total number of ratings and average scores\n",
    "    \n",
    "average_rating = raters_df.groupby('name').episode_rating.mean().sort_values()"
   ]
  },
  {
   "cell_type": "code",
   "execution_count": 6,
   "metadata": {},
   "outputs": [],
   "source": [
    "##EPISODE THAT WAS LIKED LEAST BY FANS\n",
    "#for each fan\n",
    "    #find episode they rated the loswest\n",
    "    #compare this score with their overall average\n",
    "#print fan name, episode name, episode rating, average rating & difference score\n",
    "\n",
    "dislike score = pd.DataFrame.sub ('episode rating', 'average rating')\n",
    "#needs to be able to read back into full data set to select the lowest rating score\n",
    "#should also be able to pull episode name from either row or column label"
   ]
  },
  {
   "cell_type": "code",
   "execution_count": 7,
   "metadata": {},
   "outputs": [],
   "source": [
    "##EPISODE THAT WAS LIKED MOST BY FANS\n",
    "#for each fan\n",
    "    #find episode they rated the highets\n",
    "    #compare this score with their overall average\n",
    "#print fan name, episode name, episode rating, average rating & difference score\n",
    "\n",
    "like score = pd.DataFrame.sub ('episode rating', 'average rating')\n",
    "#needs to be able to read back into full data set to select the highest rating score\n",
    "#should also be able to pull episode name from either row or column label"
   ]
  },
  {
   "cell_type": "code",
   "execution_count": null,
   "metadata": {},
   "outputs": [],
   "source": [
    "##BONUS FUN: WHICH SEASON WAS THE BEST, ACCORDING TO FANS?\n",
    "#for each fan\n",
    "    #average their individual episode scores by season ##need to figure out how to determine seasons\n",
    "    #compare season averages to overall average\n",
    "#print name of rater, name of season, number of episodes rated that season, & difference score\n",
    "\n",
    "???????????????? -> no clue right now"
   ]
  },
  {
   "cell_type": "code",
   "execution_count": 10,
   "metadata": {},
   "outputs": [],
   "source": [
    "from aldens_awesome_episode_parser import parse_episodes"
   ]
  },
  {
   "cell_type": "code",
   "execution_count": 12,
   "metadata": {},
   "outputs": [],
   "source": [
    "all_scores = parse_episodes(the_one_list)"
   ]
  },
  {
   "cell_type": "code",
   "execution_count": null,
   "metadata": {},
   "outputs": [],
   "source": []
  }
 ],
 "metadata": {
  "kernelspec": {
   "display_name": "Python 3",
   "language": "python",
   "name": "python3"
  },
  "language_info": {
   "codemirror_mode": {
    "name": "ipython",
    "version": 3
   },
   "file_extension": ".py",
   "mimetype": "text/x-python",
   "name": "python",
   "nbconvert_exporter": "python",
   "pygments_lexer": "ipython3",
   "version": "3.7.3"
  }
 },
 "nbformat": 4,
 "nbformat_minor": 4
}
