{
 "cells": [
  {
   "cell_type": "code",
   "execution_count": 1,
   "metadata": {},
   "outputs": [],
   "source": [
    "##ACCESS EPISODE PAGES"
   ]
  },
  {
   "cell_type": "code",
   "execution_count": 2,
   "metadata": {},
   "outputs": [],
   "source": [
    "##READ ALL EPISODE PAGES\n",
    "#dictionary defined here\n",
    "#find 10 most common words used throughout the series\n",
    "    #exclude common words\n",
    "    #store words in dictionary\n",
    "#print 10 most common words dictionary"
   ]
  },
  {
   "cell_type": "code",
   "execution_count": null,
   "metadata": {},
   "outputs": [],
   "source": [
    "##USER INPUT (EPISODE SELECTION)\n",
    "#dictionary defined here\n",
    "#for input (url to episode page)\n",
    "    #access page\n",
    "    #compare 10 most common words to 10 most common used throughout the series\n",
    "        #exclude common words\n",
    "        #store words in dictionary\n",
    "#compare episode top ten to series top 10 \n",
    "#print words unique to that episode"
   ]
  }
 ],
 "metadata": {
  "kernelspec": {
   "display_name": "Python 3",
   "language": "python",
   "name": "python3"
  },
  "language_info": {
   "codemirror_mode": {
    "name": "ipython",
    "version": 3
   },
   "file_extension": ".py",
   "mimetype": "text/x-python",
   "name": "python",
   "nbconvert_exporter": "python",
   "pygments_lexer": "ipython3",
   "version": "3.7.3"
  }
 },
 "nbformat": 4,
 "nbformat_minor": 4
}
